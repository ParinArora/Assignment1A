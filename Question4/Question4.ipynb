{
 "cells": [
  {
   "cell_type": "markdown",
   "metadata": {},
   "source": [
    "# Question3"
   ]
  },
  {
   "cell_type": "markdown",
   "metadata": {},
   "source": [
    "## Load Dataset"
   ]
  },
  {
   "cell_type": "code",
   "execution_count": 25,
   "metadata": {},
   "outputs": [
    {
     "name": "stdout",
     "output_type": "stream",
     "text": [
      "Requirement already satisfied: scikit-learn in /home/minibiscuitoreo/Ashoka/Courses/Spring2025/IML/Assignment1A/.venv/lib/python3.13/site-packages (1.6.1)\n",
      "Requirement already satisfied: numpy>=1.19.5 in /home/minibiscuitoreo/Ashoka/Courses/Spring2025/IML/Assignment1A/.venv/lib/python3.13/site-packages (from scikit-learn) (2.2.3)\n",
      "Requirement already satisfied: scipy>=1.6.0 in /home/minibiscuitoreo/Ashoka/Courses/Spring2025/IML/Assignment1A/.venv/lib/python3.13/site-packages (from scikit-learn) (1.15.2)\n",
      "Requirement already satisfied: joblib>=1.2.0 in /home/minibiscuitoreo/Ashoka/Courses/Spring2025/IML/Assignment1A/.venv/lib/python3.13/site-packages (from scikit-learn) (1.4.2)\n",
      "Requirement already satisfied: threadpoolctl>=3.1.0 in /home/minibiscuitoreo/Ashoka/Courses/Spring2025/IML/Assignment1A/.venv/lib/python3.13/site-packages (from scikit-learn) (3.5.0)\n",
      "\n",
      "\u001b[1m[\u001b[0m\u001b[34;49mnotice\u001b[0m\u001b[1;39;49m]\u001b[0m\u001b[39;49m A new release of pip is available: \u001b[0m\u001b[31;49m25.0\u001b[0m\u001b[39;49m -> \u001b[0m\u001b[32;49m25.0.1\u001b[0m\n",
      "\u001b[1m[\u001b[0m\u001b[34;49mnotice\u001b[0m\u001b[1;39;49m]\u001b[0m\u001b[39;49m To update, run: \u001b[0m\u001b[32;49mpip install --upgrade pip\u001b[0m\n",
      "Note: you may need to restart the kernel to use updated packages.\n",
      "Requirement already satisfied: pandas in /home/minibiscuitoreo/Ashoka/Courses/Spring2025/IML/Assignment1A/.venv/lib/python3.13/site-packages (2.2.3)\n",
      "Requirement already satisfied: numpy>=1.26.0 in /home/minibiscuitoreo/Ashoka/Courses/Spring2025/IML/Assignment1A/.venv/lib/python3.13/site-packages (from pandas) (2.2.3)\n",
      "Requirement already satisfied: python-dateutil>=2.8.2 in /home/minibiscuitoreo/Ashoka/Courses/Spring2025/IML/Assignment1A/.venv/lib/python3.13/site-packages (from pandas) (2.9.0.post0)\n",
      "Requirement already satisfied: pytz>=2020.1 in /home/minibiscuitoreo/Ashoka/Courses/Spring2025/IML/Assignment1A/.venv/lib/python3.13/site-packages (from pandas) (2025.1)\n",
      "Requirement already satisfied: tzdata>=2022.7 in /home/minibiscuitoreo/Ashoka/Courses/Spring2025/IML/Assignment1A/.venv/lib/python3.13/site-packages (from pandas) (2025.1)\n",
      "Requirement already satisfied: six>=1.5 in /home/minibiscuitoreo/Ashoka/Courses/Spring2025/IML/Assignment1A/.venv/lib/python3.13/site-packages (from python-dateutil>=2.8.2->pandas) (1.17.0)\n",
      "\n",
      "\u001b[1m[\u001b[0m\u001b[34;49mnotice\u001b[0m\u001b[1;39;49m]\u001b[0m\u001b[39;49m A new release of pip is available: \u001b[0m\u001b[31;49m25.0\u001b[0m\u001b[39;49m -> \u001b[0m\u001b[32;49m25.0.1\u001b[0m\n",
      "\u001b[1m[\u001b[0m\u001b[34;49mnotice\u001b[0m\u001b[1;39;49m]\u001b[0m\u001b[39;49m To update, run: \u001b[0m\u001b[32;49mpip install --upgrade pip\u001b[0m\n",
      "Note: you may need to restart the kernel to use updated packages.\n",
      "Requirement already satisfied: matplotlib in /home/minibiscuitoreo/Ashoka/Courses/Spring2025/IML/Assignment1A/.venv/lib/python3.13/site-packages (3.10.1)\n",
      "Requirement already satisfied: contourpy>=1.0.1 in /home/minibiscuitoreo/Ashoka/Courses/Spring2025/IML/Assignment1A/.venv/lib/python3.13/site-packages (from matplotlib) (1.3.1)\n",
      "Requirement already satisfied: cycler>=0.10 in /home/minibiscuitoreo/Ashoka/Courses/Spring2025/IML/Assignment1A/.venv/lib/python3.13/site-packages (from matplotlib) (0.12.1)\n",
      "Requirement already satisfied: fonttools>=4.22.0 in /home/minibiscuitoreo/Ashoka/Courses/Spring2025/IML/Assignment1A/.venv/lib/python3.13/site-packages (from matplotlib) (4.56.0)\n",
      "Requirement already satisfied: kiwisolver>=1.3.1 in /home/minibiscuitoreo/Ashoka/Courses/Spring2025/IML/Assignment1A/.venv/lib/python3.13/site-packages (from matplotlib) (1.4.8)\n",
      "Requirement already satisfied: numpy>=1.23 in /home/minibiscuitoreo/Ashoka/Courses/Spring2025/IML/Assignment1A/.venv/lib/python3.13/site-packages (from matplotlib) (2.2.3)\n",
      "Requirement already satisfied: packaging>=20.0 in /home/minibiscuitoreo/Ashoka/Courses/Spring2025/IML/Assignment1A/.venv/lib/python3.13/site-packages (from matplotlib) (24.2)\n",
      "Requirement already satisfied: pillow>=8 in /home/minibiscuitoreo/Ashoka/Courses/Spring2025/IML/Assignment1A/.venv/lib/python3.13/site-packages (from matplotlib) (11.1.0)\n",
      "Requirement already satisfied: pyparsing>=2.3.1 in /home/minibiscuitoreo/Ashoka/Courses/Spring2025/IML/Assignment1A/.venv/lib/python3.13/site-packages (from matplotlib) (3.2.1)\n",
      "Requirement already satisfied: python-dateutil>=2.7 in /home/minibiscuitoreo/Ashoka/Courses/Spring2025/IML/Assignment1A/.venv/lib/python3.13/site-packages (from matplotlib) (2.9.0.post0)\n",
      "Requirement already satisfied: six>=1.5 in /home/minibiscuitoreo/Ashoka/Courses/Spring2025/IML/Assignment1A/.venv/lib/python3.13/site-packages (from python-dateutil>=2.7->matplotlib) (1.17.0)\n",
      "\n",
      "\u001b[1m[\u001b[0m\u001b[34;49mnotice\u001b[0m\u001b[1;39;49m]\u001b[0m\u001b[39;49m A new release of pip is available: \u001b[0m\u001b[31;49m25.0\u001b[0m\u001b[39;49m -> \u001b[0m\u001b[32;49m25.0.1\u001b[0m\n",
      "\u001b[1m[\u001b[0m\u001b[34;49mnotice\u001b[0m\u001b[1;39;49m]\u001b[0m\u001b[39;49m To update, run: \u001b[0m\u001b[32;49mpip install --upgrade pip\u001b[0m\n",
      "Note: you may need to restart the kernel to use updated packages.\n"
     ]
    }
   ],
   "source": [
    "%pip install scikit-learn\n",
    "%pip install pandas\n",
    "%pip install matplotlib"
   ]
  },
  {
   "cell_type": "code",
   "execution_count": 26,
   "metadata": {},
   "outputs": [
    {
     "data": {
      "text/html": [
       "<div>\n",
       "<style scoped>\n",
       "    .dataframe tbody tr th:only-of-type {\n",
       "        vertical-align: middle;\n",
       "    }\n",
       "\n",
       "    .dataframe tbody tr th {\n",
       "        vertical-align: top;\n",
       "    }\n",
       "\n",
       "    .dataframe thead th {\n",
       "        text-align: right;\n",
       "    }\n",
       "</style>\n",
       "<table border=\"1\" class=\"dataframe\">\n",
       "  <thead>\n",
       "    <tr style=\"text-align: right;\">\n",
       "      <th></th>\n",
       "      <th>sepal length (cm)</th>\n",
       "      <th>sepal width (cm)</th>\n",
       "      <th>petal length (cm)</th>\n",
       "      <th>petal width (cm)</th>\n",
       "      <th>target</th>\n",
       "    </tr>\n",
       "  </thead>\n",
       "  <tbody>\n",
       "    <tr>\n",
       "      <th>0</th>\n",
       "      <td>5.1</td>\n",
       "      <td>3.5</td>\n",
       "      <td>1.4</td>\n",
       "      <td>0.2</td>\n",
       "      <td>0</td>\n",
       "    </tr>\n",
       "    <tr>\n",
       "      <th>1</th>\n",
       "      <td>4.9</td>\n",
       "      <td>3.0</td>\n",
       "      <td>1.4</td>\n",
       "      <td>0.2</td>\n",
       "      <td>0</td>\n",
       "    </tr>\n",
       "    <tr>\n",
       "      <th>2</th>\n",
       "      <td>4.7</td>\n",
       "      <td>3.2</td>\n",
       "      <td>1.3</td>\n",
       "      <td>0.2</td>\n",
       "      <td>0</td>\n",
       "    </tr>\n",
       "    <tr>\n",
       "      <th>3</th>\n",
       "      <td>4.6</td>\n",
       "      <td>3.1</td>\n",
       "      <td>1.5</td>\n",
       "      <td>0.2</td>\n",
       "      <td>0</td>\n",
       "    </tr>\n",
       "    <tr>\n",
       "      <th>4</th>\n",
       "      <td>5.0</td>\n",
       "      <td>3.6</td>\n",
       "      <td>1.4</td>\n",
       "      <td>0.2</td>\n",
       "      <td>0</td>\n",
       "    </tr>\n",
       "  </tbody>\n",
       "</table>\n",
       "</div>"
      ],
      "text/plain": [
       "   sepal length (cm)  sepal width (cm)  petal length (cm)  petal width (cm)  \\\n",
       "0                5.1               3.5                1.4               0.2   \n",
       "1                4.9               3.0                1.4               0.2   \n",
       "2                4.7               3.2                1.3               0.2   \n",
       "3                4.6               3.1                1.5               0.2   \n",
       "4                5.0               3.6                1.4               0.2   \n",
       "\n",
       "   target  \n",
       "0       0  \n",
       "1       0  \n",
       "2       0  \n",
       "3       0  \n",
       "4       0  "
      ]
     },
     "execution_count": 26,
     "metadata": {},
     "output_type": "execute_result"
    }
   ],
   "source": [
    "import pandas as pd\n",
    "from sklearn.datasets import load_iris\n",
    "\n",
    "data = load_iris()\n",
    "\n",
    "\n",
    "df = pd.DataFrame(data.data, columns=data.feature_names)\n",
    "df['target'] = data.target\n",
    "df.head()"
   ]
  },
  {
   "cell_type": "markdown",
   "metadata": {},
   "source": [
    "## Splitter Function"
   ]
  },
  {
   "cell_type": "code",
   "execution_count": 27,
   "metadata": {},
   "outputs": [],
   "source": [
    "import random\n",
    "def train_test_split(df, test_size, random_state=81):\n",
    "    random.seed(random_state)\n",
    "    if isinstance(test_size, float):\n",
    "        test_size = round(test_size * len(df))\n",
    "\n",
    "    indices = df.index.tolist()\n",
    "    test_indices = random.sample(population=indices, k=test_size)\n",
    "\n",
    "    test_df = df.loc[test_indices]\n",
    "    train_df = df.drop(test_indices)\n",
    "    \n",
    "    return train_df, test_df"
   ]
  },
  {
   "cell_type": "markdown",
   "metadata": {},
   "source": [
    "# Preprocessing Data"
   ]
  },
  {
   "cell_type": "markdown",
   "metadata": {},
   "source": [
    "### Unprocessed columns"
   ]
  },
  {
   "cell_type": "code",
   "execution_count": 28,
   "metadata": {},
   "outputs": [
    {
     "name": "stdout",
     "output_type": "stream",
     "text": [
      "Training set size: (90, 5)\n",
      "Testing set size: (60, 5)\n"
     ]
    }
   ],
   "source": [
    "train_df, test_df = train_test_split(df, test_size=0.4)\n",
    "print(f\"Training set size: {train_df.shape}\")\n",
    "print(f\"Testing set size: {test_df.shape}\")\n"
   ]
  },
  {
   "cell_type": "markdown",
   "metadata": {},
   "source": [
    "### Normalization   "
   ]
  },
  {
   "cell_type": "code",
   "execution_count": 29,
   "metadata": {},
   "outputs": [
    {
     "data": {
      "text/html": [
       "<div>\n",
       "<style scoped>\n",
       "    .dataframe tbody tr th:only-of-type {\n",
       "        vertical-align: middle;\n",
       "    }\n",
       "\n",
       "    .dataframe tbody tr th {\n",
       "        vertical-align: top;\n",
       "    }\n",
       "\n",
       "    .dataframe thead th {\n",
       "        text-align: right;\n",
       "    }\n",
       "</style>\n",
       "<table border=\"1\" class=\"dataframe\">\n",
       "  <thead>\n",
       "    <tr style=\"text-align: right;\">\n",
       "      <th></th>\n",
       "      <th>sepal length (cm)</th>\n",
       "      <th>sepal width (cm)</th>\n",
       "      <th>petal length (cm)</th>\n",
       "      <th>petal width (cm)</th>\n",
       "      <th>target</th>\n",
       "    </tr>\n",
       "  </thead>\n",
       "  <tbody>\n",
       "    <tr>\n",
       "      <th>0</th>\n",
       "      <td>5.1</td>\n",
       "      <td>3.5</td>\n",
       "      <td>1.4</td>\n",
       "      <td>0.2</td>\n",
       "      <td>0</td>\n",
       "    </tr>\n",
       "    <tr>\n",
       "      <th>1</th>\n",
       "      <td>4.9</td>\n",
       "      <td>3.0</td>\n",
       "      <td>1.4</td>\n",
       "      <td>0.2</td>\n",
       "      <td>0</td>\n",
       "    </tr>\n",
       "    <tr>\n",
       "      <th>2</th>\n",
       "      <td>4.7</td>\n",
       "      <td>3.2</td>\n",
       "      <td>1.3</td>\n",
       "      <td>0.2</td>\n",
       "      <td>0</td>\n",
       "    </tr>\n",
       "    <tr>\n",
       "      <th>3</th>\n",
       "      <td>4.6</td>\n",
       "      <td>3.1</td>\n",
       "      <td>1.5</td>\n",
       "      <td>0.2</td>\n",
       "      <td>0</td>\n",
       "    </tr>\n",
       "    <tr>\n",
       "      <th>4</th>\n",
       "      <td>5.0</td>\n",
       "      <td>3.6</td>\n",
       "      <td>1.4</td>\n",
       "      <td>0.2</td>\n",
       "      <td>0</td>\n",
       "    </tr>\n",
       "  </tbody>\n",
       "</table>\n",
       "</div>"
      ],
      "text/plain": [
       "   sepal length (cm)  sepal width (cm)  petal length (cm)  petal width (cm)  \\\n",
       "0                5.1               3.5                1.4               0.2   \n",
       "1                4.9               3.0                1.4               0.2   \n",
       "2                4.7               3.2                1.3               0.2   \n",
       "3                4.6               3.1                1.5               0.2   \n",
       "4                5.0               3.6                1.4               0.2   \n",
       "\n",
       "   target  \n",
       "0       0  \n",
       "1       0  \n",
       "2       0  \n",
       "3       0  \n",
       "4       0  "
      ]
     },
     "execution_count": 29,
     "metadata": {},
     "output_type": "execute_result"
    }
   ],
   "source": [
    "normalised_df = df.copy()\n",
    "columns = normalised_df.columns[:]\n",
    "columns = columns.drop('target') # we dont want to normalise the target column\n",
    "for column in columns:\n",
    "    for x in df[column]:\n",
    "        x = x-min(df[column])/(max(df[column])-min(df[column]))\n",
    "\n",
    "normalised_df.head()"
   ]
  },
  {
   "cell_type": "code",
   "execution_count": 30,
   "metadata": {},
   "outputs": [
    {
     "name": "stdout",
     "output_type": "stream",
     "text": [
      "Training set size: (90, 5)\n",
      "Testing set size: (60, 5)\n"
     ]
    }
   ],
   "source": [
    "train_df_normalized, test_df_normalized = train_test_split(normalised_df, test_size=0.4)\n",
    "print(f\"Training set size: {train_df.shape}\")\n",
    "print(f\"Testing set size: {test_df.shape}\")"
   ]
  },
  {
   "cell_type": "markdown",
   "metadata": {},
   "source": [
    "### Standardization"
   ]
  },
  {
   "cell_type": "code",
   "execution_count": 31,
   "metadata": {},
   "outputs": [
    {
     "data": {
      "text/html": [
       "<div>\n",
       "<style scoped>\n",
       "    .dataframe tbody tr th:only-of-type {\n",
       "        vertical-align: middle;\n",
       "    }\n",
       "\n",
       "    .dataframe tbody tr th {\n",
       "        vertical-align: top;\n",
       "    }\n",
       "\n",
       "    .dataframe thead th {\n",
       "        text-align: right;\n",
       "    }\n",
       "</style>\n",
       "<table border=\"1\" class=\"dataframe\">\n",
       "  <thead>\n",
       "    <tr style=\"text-align: right;\">\n",
       "      <th></th>\n",
       "      <th>sepal length (cm)</th>\n",
       "      <th>sepal width (cm)</th>\n",
       "      <th>petal length (cm)</th>\n",
       "      <th>petal width (cm)</th>\n",
       "      <th>target</th>\n",
       "    </tr>\n",
       "  </thead>\n",
       "  <tbody>\n",
       "    <tr>\n",
       "      <th>0</th>\n",
       "      <td>5.1</td>\n",
       "      <td>3.5</td>\n",
       "      <td>1.4</td>\n",
       "      <td>0.2</td>\n",
       "      <td>0</td>\n",
       "    </tr>\n",
       "    <tr>\n",
       "      <th>1</th>\n",
       "      <td>4.9</td>\n",
       "      <td>3.0</td>\n",
       "      <td>1.4</td>\n",
       "      <td>0.2</td>\n",
       "      <td>0</td>\n",
       "    </tr>\n",
       "    <tr>\n",
       "      <th>2</th>\n",
       "      <td>4.7</td>\n",
       "      <td>3.2</td>\n",
       "      <td>1.3</td>\n",
       "      <td>0.2</td>\n",
       "      <td>0</td>\n",
       "    </tr>\n",
       "    <tr>\n",
       "      <th>3</th>\n",
       "      <td>4.6</td>\n",
       "      <td>3.1</td>\n",
       "      <td>1.5</td>\n",
       "      <td>0.2</td>\n",
       "      <td>0</td>\n",
       "    </tr>\n",
       "    <tr>\n",
       "      <th>4</th>\n",
       "      <td>5.0</td>\n",
       "      <td>3.6</td>\n",
       "      <td>1.4</td>\n",
       "      <td>0.2</td>\n",
       "      <td>0</td>\n",
       "    </tr>\n",
       "  </tbody>\n",
       "</table>\n",
       "</div>"
      ],
      "text/plain": [
       "   sepal length (cm)  sepal width (cm)  petal length (cm)  petal width (cm)  \\\n",
       "0                5.1               3.5                1.4               0.2   \n",
       "1                4.9               3.0                1.4               0.2   \n",
       "2                4.7               3.2                1.3               0.2   \n",
       "3                4.6               3.1                1.5               0.2   \n",
       "4                5.0               3.6                1.4               0.2   \n",
       "\n",
       "   target  \n",
       "0       0  \n",
       "1       0  \n",
       "2       0  \n",
       "3       0  \n",
       "4       0  "
      ]
     },
     "execution_count": 31,
     "metadata": {},
     "output_type": "execute_result"
    }
   ],
   "source": [
    "standardized_df = df.copy()\n",
    "columns = standardized_df.columns[:]\n",
    "columns = columns.drop('target') # we dont want to standardize the target column\n",
    "for column in columns:\n",
    "    mean = df[column].mean()\n",
    "    std = df[column].std()\n",
    "    for x in df[column]:\n",
    "        x = (x-mean)/std\n",
    "\n",
    "standardized_df.head()"
   ]
  },
  {
   "cell_type": "code",
   "execution_count": 32,
   "metadata": {},
   "outputs": [
    {
     "name": "stdout",
     "output_type": "stream",
     "text": [
      "Training set size: (90, 5)\n",
      "Testing set size: (60, 5)\n"
     ]
    }
   ],
   "source": [
    "train_df_standardized, test_df_standardized = train_test_split(standardized_df, test_size=0.4)\n",
    "print(f\"Training set size: {train_df.shape}\")\n",
    "print(f\"Testing set size: {test_df.shape}\")"
   ]
  },
  {
   "cell_type": "markdown",
   "metadata": {},
   "source": [
    "# Softmax + Multiclass Regression"
   ]
  },
  {
   "cell_type": "code",
   "execution_count": 33,
   "metadata": {},
   "outputs": [],
   "source": [
    "import numpy as np  \n",
    "import logging\n",
    "import matplotlib.pyplot as plt\n",
    "import re\n",
    "\n",
    "class SoftmaxMulticlassClassification:\n",
    "    def __init__(self):\n",
    "        self.weights = None\n",
    "        self.bias = None\n",
    "    \n",
    "    def softmax(self, z):\n",
    "        exp_z = np.exp(z)/np.sum(np.exp(z), axis=-1, keepdims=True)\n",
    "        return exp_z \n",
    "    \n",
    "    def reset_logging(self):\n",
    "        # Clear existing handlers\n",
    "        for handler in logging.root.handlers[:]:\n",
    "            logging.root.removeHandler(handler)\n",
    "    \n",
    "    def draw_graph(self, log_file):\n",
    "        iterations = []\n",
    "        losses = []\n",
    "\n",
    "        with open(log_file, \"r\") as f:\n",
    "            for line in f:\n",
    "                match = re.search(r\"Iteration (\\d+), Loss: ([\\d\\.]+)\", line)\n",
    "                if match:\n",
    "                    iterations.append(int(match.group(1)))\n",
    "                    losses.append(float(match.group(2)))\n",
    "\n",
    "        \n",
    "        plt.plot(iterations, losses, marker='o')\n",
    "        plt.xlabel(\"Iteration\")\n",
    "        plt.ylabel(\"Loss\")\n",
    "        plt.title(\"Loss vs Iteration\")\n",
    "        plt.grid(True)\n",
    "        plt.show()\n",
    "\n",
    "    def train_bgd(self, X, y, log_file, learning_rate=0.01, n_iters=10000, graph = True):\n",
    "        self.reset_logging()\n",
    "        logging.basicConfig(filename=log_file, level=logging.INFO)\n",
    "        n_samples, n_features = X.shape\n",
    "        n_classes = len(np.unique(y))\n",
    "        \n",
    "        self.weights = np.random.rand(n_features, n_classes)\n",
    "        self.bias = np.zeros(n_classes)\n",
    "\n",
    "        y_one_hot = np.zeros((n_samples, n_classes))\n",
    "        y_one_hot[np.arange(n_samples), y] = 1\n",
    "        \n",
    "        for i in range(n_iters):\n",
    "\n",
    "            logits = np.dot(X, self.weights) + self.bias\n",
    "            y_predicted = self.softmax(logits)\n",
    "            loss = x-np.mean(np.sum(y_one_hot * np.log(y_predicted), axis=1))\n",
    "            dw = (1 / n_samples) * np.dot(X.T, (y_predicted - y_one_hot))\n",
    "            db = (1 / n_samples) * np.sum(y_predicted - y_one_hot, axis=0)\n",
    "            self.weights -= learning_rate * dw\n",
    "            self.bias -= learning_rate * db\n",
    "            \n",
    "            if i % 100 == 0:\n",
    "                logging.info(f\"Iteration {i}, Loss: {loss:.4f}\")\n",
    "\n",
    "        if graph:\n",
    "            self.draw_graph(log_file)\n",
    "\n",
    "        \n",
    "    \n",
    "    def train_sgd(self, X, y, log_file, learning_rate=0.01, n_iters=10000, graph = True):\n",
    "        self.reset_logging()\n",
    "        logging.basicConfig(filename=log_file, level=logging.INFO)\n",
    "        n_samples, n_features = X.shape\n",
    "        n_classes = len(np.unique(y))\n",
    "        \n",
    "        self.weights = np.random.rand(n_features, n_classes)\n",
    "        self.bias = np.zeros(n_classes)\n",
    "        \n",
    "        for i in range(n_iters):\n",
    "            for j in range(n_samples):\n",
    "                logits = np.dot(X[j], self.weights) + self.bias\n",
    "                y_predicted = self.softmax(logits)\n",
    "                \n",
    "                y_true = np.zeros(n_classes)\n",
    "                y_true[y[j]] = 1\n",
    "                \n",
    "                loss = -np.log(y_predicted[y[j]] + 1e-9)\n",
    "                \n",
    "                dw = np.outer(X[j], (y_predicted - y_true))\n",
    "                db = y_predicted - y_true\n",
    "                \n",
    "                self.weights -= learning_rate * dw\n",
    "                self.bias -= learning_rate * db\n",
    "            \n",
    "            if i % 100 == 0:\n",
    "                logging.info(f\"Iteration {i}, Loss: {loss:.4f}\")\n",
    "        \n",
    "        if graph:\n",
    "            self.draw_graph(log_file)\n",
    "    \n",
    "    def predict(self, X):\n",
    "        logits = np.dot(X, self.weights) + self.bias\n",
    "        y_predicted = self.softmax(logits)\n",
    "        y_predicted_class = np.argmax(y_predicted, axis=1)\n",
    "        return y_predicted_class\n",
    "    \n",
    "    def evaluate_model(self, X_test, y_test):\n",
    "        y_pred = self.predict(X_test)\n",
    "\n",
    "        accuracy = np.mean(y_pred == y_test)\n",
    "        print(\"Accuracy: {:.4f}\".format(accuracy))\n",
    "        \n",
    "        classes = np.unique(np.concatenate((y_test, y_pred)))\n",
    "        n_classes = len(classes)\n",
    "        \n",
    "        conf_matrix = np.zeros((n_classes, n_classes), dtype=int)\n",
    "        for true_label, pred_label in zip(y_test, y_pred):\n",
    "            conf_matrix[true_label, pred_label] += 1\n",
    "        \n",
    "        print(\"\\nConfusion Matrix:\")\n",
    "        print(conf_matrix)\n",
    "        \n",
    "        print(\"\\nClassification Report:\")\n",
    "        print(\"Class\\tPrecision\\tRecall\\tF1-Score\\tSupport\")\n",
    "        for cls in classes:\n",
    "            tp = conf_matrix[cls, cls]\n",
    "            fp = conf_matrix[:, cls].sum() - tp\n",
    "            fn = conf_matrix[cls, :].sum() - tp\n",
    "            precision = tp / (tp + fp) if (tp + fp) > 0 else 0\n",
    "            recall = tp / (tp + fn) if (tp + fn) > 0 else 0\n",
    "            f1_score = (2 * precision * recall / (precision + recall)) if (precision + recall) > 0 else 0\n",
    "            support = conf_matrix[cls, :].sum()\n",
    "            print(f\"{cls}\\t{precision:.4f}\\t\\t{recall:.4f}\\t{f1_score:.4f}\\t\\t{support}\")\n",
    "            "
   ]
  },
  {
   "cell_type": "markdown",
   "metadata": {},
   "source": [
    "# Training + Evaluation"
   ]
  },
  {
   "cell_type": "markdown",
   "metadata": {},
   "source": [
    "## Unprocessed Data"
   ]
  },
  {
   "cell_type": "markdown",
   "metadata": {},
   "source": [
    "### Batch Gradient Descent"
   ]
  },
  {
   "cell_type": "code",
   "execution_count": 34,
   "metadata": {},
   "outputs": [
    {
     "data": {
      "image/png": "[encoded data removed]",
      "text/plain": [
       "<Figure size 640x480 with 1 Axes>"
      ]
     },
     "metadata": {},
     "output_type": "display_data"
    },
    {
     "name": "stdout",
     "output_type": "stream",
     "text": [
      "Accuracy: 0.9667\n",
      "\n",
      "Confusion Matrix:\n",
      "[[21  0  0]\n",
      " [ 0 19  2]\n",
      " [ 0  0 18]]\n",
      "\n",
      "Classification Report:\n",
      "Class\tPrecision\tRecall\tF1-Score\tSupport\n",
      "0\t1.0000\t\t1.0000\t1.0000\t\t21\n",
      "1\t1.0000\t\t0.9048\t0.9500\t\t21\n",
      "2\t0.9000\t\t1.0000\t0.9474\t\t18\n"
     ]
    }
   ],
   "source": [
    "SoftmaxMulticlassClassificationbgd = SoftmaxMulticlassClassification()\n",
    "\n",
    "X = train_df.drop('target', axis=1).values\n",
    "y = train_df['target'].values\n",
    "\n",
    "SoftmaxMulticlassClassificationbgd.train_bgd(X, y,\"unprocessedbgd.log\", learning_rate=0.01, n_iters=10000)\n",
    "\n",
    "X_test = test_df.drop('target', axis=1).values\n",
    "y_test = test_df['target'].values\n",
    "\n",
    "SoftmaxMulticlassClassificationbgd.evaluate_model(X_test, y_test)"
   ]
  },
  {
   "cell_type": "markdown",
   "metadata": {},
   "source": [
    "### Stochastic Gradient Descent"
   ]
  },
  {
   "cell_type": "code",
   "execution_count": 35,
   "metadata": {},
   "outputs": [
    {
     "data": {
      "image/png": "[encoded data removed]",
      "text/plain": [
       "<Figure size 640x480 with 1 Axes>"
      ]
     },
     "metadata": {},
     "output_type": "display_data"
    },
    {
     "name": "stdout",
     "output_type": "stream",
     "text": [
      "Accuracy: 0.9833\n",
      "\n",
      "Confusion Matrix:\n",
      "[[21  0  0]\n",
      " [ 0 20  1]\n",
      " [ 0  0 18]]\n",
      "\n",
      "Classification Report:\n",
      "Class\tPrecision\tRecall\tF1-Score\tSupport\n",
      "0\t1.0000\t\t1.0000\t1.0000\t\t21\n",
      "1\t1.0000\t\t0.9524\t0.9756\t\t21\n",
      "2\t0.9474\t\t1.0000\t0.9730\t\t18\n"
     ]
    }
   ],
   "source": [
    "SoftmaxMulticlassClassificationsgd = SoftmaxMulticlassClassification()\n",
    "\n",
    "X = train_df.drop('target', axis=1).values\n",
    "y = train_df['target'].values\n",
    "\n",
    "SoftmaxMulticlassClassificationsgd.train_sgd(X, y,\"unprocessedsgd.log\", learning_rate=0.01, n_iters=10000)\n",
    "\n",
    "X_test = test_df.drop('target', axis=1).values\n",
    "y_test = test_df['target'].values\n",
    "\n",
    "SoftmaxMulticlassClassificationsgd.evaluate_model(X_test, y_test)"
   ]
  },
  {
   "cell_type": "markdown",
   "metadata": {},
   "source": [
    "## Normalized Data"
   ]
  },
  {
   "cell_type": "markdown",
   "metadata": {},
   "source": [
    "### Batch Gradient Descent"
   ]
  },
  {
   "cell_type": "code",
   "execution_count": 36,
   "metadata": {},
   "outputs": [
    {
     "data": {
      "image/png": "[encoded data removed]",
      "text/plain": [
       "<Figure size 640x480 with 1 Axes>"
      ]
     },
     "metadata": {},
     "output_type": "display_data"
    },
    {
     "name": "stdout",
     "output_type": "stream",
     "text": [
      "Accuracy: 0.9667\n",
      "\n",
      "Confusion Matrix:\n",
      "[[21  0  0]\n",
      " [ 0 19  2]\n",
      " [ 0  0 18]]\n",
      "\n",
      "Classification Report:\n",
      "Class\tPrecision\tRecall\tF1-Score\tSupport\n",
      "0\t1.0000\t\t1.0000\t1.0000\t\t21\n",
      "1\t1.0000\t\t0.9048\t0.9500\t\t21\n",
      "2\t0.9000\t\t1.0000\t0.9474\t\t18\n"
     ]
    }
   ],
   "source": [
    "SoftmaxMulticlassClassificationbgd_normalized = SoftmaxMulticlassClassification()\n",
    "\n",
    "X = train_df_normalized.drop('target', axis=1).values\n",
    "y = train_df_normalized['target'].values\n",
    "\n",
    "SoftmaxMulticlassClassificationbgd_normalized.train_bgd(X, y, \"normalizedbgd.log\", learning_rate=0.01, n_iters=10000)\n",
    "\n",
    "X_test = test_df_normalized.drop('target', axis=1).values\n",
    "y_test = test_df_normalized['target'].values\n",
    "\n",
    "SoftmaxMulticlassClassificationbgd_normalized.evaluate_model(X_test, y_test)"
   ]
  },
  {
   "cell_type": "markdown",
   "metadata": {},
   "source": [
    "### Stochastic Gradient Descent"
   ]
  },
  {
   "cell_type": "code",
   "execution_count": 37,
   "metadata": {},
   "outputs": [
    {
     "data": {
      "image/png": "[encoded data removed]",
      "text/plain": [
       "<Figure size 640x480 with 1 Axes>"
      ]
     },
     "metadata": {},
     "output_type": "display_data"
    },
    {
     "name": "stdout",
     "output_type": "stream",
     "text": [
      "Accuracy: 0.9833\n",
      "\n",
      "Confusion Matrix:\n",
      "[[21  0  0]\n",
      " [ 0 20  1]\n",
      " [ 0  0 18]]\n",
      "\n",
      "Classification Report:\n",
      "Class\tPrecision\tRecall\tF1-Score\tSupport\n",
      "0\t1.0000\t\t1.0000\t1.0000\t\t21\n",
      "1\t1.0000\t\t0.9524\t0.9756\t\t21\n",
      "2\t0.9474\t\t1.0000\t0.9730\t\t18\n"
     ]
    }
   ],
   "source": [
    "SoftmaxMulticlassClassificationsgd_normalized = SoftmaxMulticlassClassification()\n",
    "\n",
    "X = train_df_normalized.drop('target', axis=1).values\n",
    "y = train_df_normalized['target'].values\n",
    "\n",
    "SoftmaxMulticlassClassificationsgd_normalized.train_sgd(X, y, \"normalizedsgd.log\", learning_rate=0.01, n_iters=10000)\n",
    "\n",
    "X_test = test_df_normalized.drop('target', axis=1).values\n",
    "y_test = test_df_normalized['target'].values\n",
    "\n",
    "SoftmaxMulticlassClassificationsgd_normalized.evaluate_model(X_test, y_test)"
   ]
  },
  {
   "cell_type": "markdown",
   "metadata": {},
   "source": [
    "## Standardized Data"
   ]
  },
  {
   "cell_type": "markdown",
   "metadata": {},
   "source": [
    "### Batch Gradient Descent"
   ]
  },
  {
   "cell_type": "code",
   "execution_count": 38,
   "metadata": {},
   "outputs": [
    {
     "data": {
      "image/png": "[encoded data removed]",
      "text/plain": [
       "<Figure size 640x480 with 1 Axes>"
      ]
     },
     "metadata": {},
     "output_type": "display_data"
    },
    {
     "name": "stdout",
     "output_type": "stream",
     "text": [
      "Accuracy: 0.9667\n",
      "\n",
      "Confusion Matrix:\n",
      "[[21  0  0]\n",
      " [ 0 19  2]\n",
      " [ 0  0 18]]\n",
      "\n",
      "Classification Report:\n",
      "Class\tPrecision\tRecall\tF1-Score\tSupport\n",
      "0\t1.0000\t\t1.0000\t1.0000\t\t21\n",
      "1\t1.0000\t\t0.9048\t0.9500\t\t21\n",
      "2\t0.9000\t\t1.0000\t0.9474\t\t18\n"
     ]
    }
   ],
   "source": [
    "SoftmaxMulticlassClassificationbgd_standardized = SoftmaxMulticlassClassification()\n",
    "\n",
    "X = train_df_standardized.drop('target', axis=1).values\n",
    "y = train_df_standardized['target'].values\n",
    "\n",
    "SoftmaxMulticlassClassificationbgd_standardized.train_bgd(X, y, \"standardizedbgd.log\", learning_rate=0.01, n_iters=10000)\n",
    "\n",
    "X_test = test_df_standardized.drop('target', axis=1).values\n",
    "y_test = test_df_standardized['target'].values\n",
    "\n",
    "SoftmaxMulticlassClassificationbgd_standardized.evaluate_model(X_test, y_test)"
   ]
  },
  {
   "cell_type": "markdown",
   "metadata": {},
   "source": [
    "### Stochastic Gradient Descent"
   ]
  },
  {
   "cell_type": "code",
   "execution_count": 39,
   "metadata": {},
   "outputs": [
    {
     "data": {
      "image/png": "[encoded data removed]",
      "text/plain": [
       "<Figure size 640x480 with 1 Axes>"
      ]
     },
     "metadata": {},
     "output_type": "display_data"
    },
    {
     "name": "stdout",
     "output_type": "stream",
     "text": [
      "Accuracy: 0.9833\n",
      "\n",
      "Confusion Matrix:\n",
      "[[21  0  0]\n",
      " [ 0 20  1]\n",
      " [ 0  0 18]]\n",
      "\n",
      "Classification Report:\n",
      "Class\tPrecision\tRecall\tF1-Score\tSupport\n",
      "0\t1.0000\t\t1.0000\t1.0000\t\t21\n",
      "1\t1.0000\t\t0.9524\t0.9756\t\t21\n",
      "2\t0.9474\t\t1.0000\t0.9730\t\t18\n"
     ]
    }
   ],
   "source": [
    "SoftmaxMulticlassClassificationsgd_standardized = SoftmaxMulticlassClassification()\n",
    "\n",
    "X = train_df_standardized.drop('target', axis=1).values\n",
    "y = train_df_standardized['target'].values\n",
    "\n",
    "SoftmaxMulticlassClassificationsgd_standardized.train_sgd(X, y, \"standardizedsgd.log\", learning_rate=0.01, n_iters=10000)\n",
    "\n",
    "X_test = test_df_standardized.drop('target', axis=1).values\n",
    "y_test = test_df_standardized['target'].values\n",
    "\n",
    "SoftmaxMulticlassClassificationsgd_standardized.evaluate_model(X_test, y_test)"
   ]
  }
 ],
 "metadata": {
  "kernelspec": {
   "display_name": ".venv",
   "language": "python",
   "name": "python3"
  },
  "language_info": {
   "codemirror_mode": {
    "name": "ipython",
    "version": 3
   },
   "file_extension": ".py",
   "mimetype": "text/x-python",
   "name": "python",
   "nbconvert_exporter": "python",
   "pygments_lexer": "ipython3",
   "version": "3.13.2"
  }
 },
 "nbformat": 4,
 "nbformat_minor": 2
}
